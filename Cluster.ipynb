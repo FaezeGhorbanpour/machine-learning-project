{
 "cells": [
  {
   "cell_type": "code",
   "execution_count": 1,
   "metadata": {},
   "outputs": [],
   "source": [
    "# load train and test data \n",
    "import pandas as pd\n",
    "\n",
    "train_data_path = 'data/Train/'\n",
    "trainX = pd.read_csv(train_data_path + 'X_train.txt',sep=\" \", header=None).values\n",
    "trainY = pd.read_csv(train_data_path + 'y_train.txt', header=None).values.ravel()"
   ]
  },
  {
   "cell_type": "code",
   "execution_count": 2,
   "metadata": {},
   "outputs": [],
   "source": [
    "import matplotlib.pyplot as plt\n",
    "\n",
    "def plot(name, t, x):\n",
    "    plt.plot(t, x)\n",
    "    plt.legend([name], loc='upper left')\n",
    "    plt.show() "
   ]
  },
  {
   "cell_type": "code",
   "execution_count": 16,
   "metadata": {},
   "outputs": [
    {
     "name": "stdout",
     "output_type": "stream",
     "text": [
      "Minimum of sum of squared distances of samples to their closest cluster center is:  15.733299178365757\n"
     ]
    }
   ],
   "source": [
    "from sklearn.cluster import KMeans\n",
    "import numpy as np\n",
    "\n",
    "min_mse = np.inf\n",
    "min_cluster = None\n",
    "repeat_number = 10\n",
    "for i in range(repeat_number):\n",
    "    kmeans = KMeans(init='k-means++', n_clusters=12).fit(trainX)\n",
    "    mse = kmeans.inertia_ / trainX.shape[0]\n",
    "    if mse <  min_mse :\n",
    "        min_mse = mse\n",
    "        min_cluster = kmeans\n",
    "        \n",
    "print('Minimum of sum of squared distances of samples to their closest cluster center is: ', min_mse)"
   ]
  },
  {
   "cell_type": "code",
   "execution_count": 6,
   "metadata": {},
   "outputs": [
    {
     "name": "stdout",
     "output_type": "stream",
     "text": [
      "Rand index is:  0.3941281458089616\n",
      "Homogeneity is:  0.6657748017425962\n",
      "Completeness is:  0.5499334830123643\n"
     ]
    }
   ],
   "source": [
    "from sklearn import metrics\n",
    "rand_index = metrics.adjusted_rand_score(trainY, min_cluster.labels_)\n",
    "print('Rand index is: ', rand_index)\n",
    "homogeneity =  metrics.homogeneity_score(trainY, min_cluster.labels_)\n",
    "print('Homogeneity is: ', homogeneity)\n",
    "completeness = metrics.completeness_score(trainY, min_cluster.labels_)\n",
    "print('Completeness is: ', completeness)"
   ]
  },
  {
   "cell_type": "code",
   "execution_count": 14,
   "metadata": {},
   "outputs": [
    {
     "name": "stdout",
     "output_type": "stream",
     "text": [
      "Minimum of sum of squared distances of samples to their closest cluster center is:  0.17111098772918534\n"
     ]
    }
   ],
   "source": [
    "from sklearn.mixture import GaussianMixture\n",
    "import numpy as np\n",
    "\n",
    "min_mse = np.inf\n",
    "min_cluster = None\n",
    "repeat_number = 10\n",
    "for i in range(repeat_number):\n",
    "    gmm = GaussianMixture(n_components=12,covariance_type='diag').fit(trainX)\n",
    "    cov = gmm.covariances_\n",
    "    mse = np.sum(np.diag(cov))\n",
    "    if mse <  min_mse :\n",
    "        min_mse = mse\n",
    "        min_cluster = gmm\n",
    "        \n",
    "print('Minimum of sum of squared distances of samples to their closest cluster center is: ', min_mse)"
   ]
  },
  {
   "cell_type": "code",
   "execution_count": 15,
   "metadata": {},
   "outputs": [
    {
     "name": "stdout",
     "output_type": "stream",
     "text": [
      "Rand index is:  0.2577252909384135\n",
      "Homogeneity is:  0.5008801501528031\n",
      "Completeness is:  0.42589980001056144\n"
     ]
    }
   ],
   "source": [
    "pred_y = min_cluster.predict(trainX)\n",
    "from sklearn import metrics\n",
    "rand_index = metrics.adjusted_rand_score(trainY, pred_y)\n",
    "print('Rand index is: ', rand_index)\n",
    "homogeneity =  metrics.homogeneity_score(trainY, pred_y)\n",
    "print('Homogeneity is: ', homogeneity)\n",
    "completeness = metrics.completeness_score(trainY, pred_y)\n",
    "print('Completeness is: ', completeness)"
   ]
  },
  {
   "cell_type": "code",
   "execution_count": 10,
   "metadata": {},
   "outputs": [],
   "source": [
    "from sklearn.decomposition import PCA\n",
    "model = PCA(n_components=20).fit(trainX)\n",
    "new_trainX = model.transform(trainX)"
   ]
  },
  {
   "cell_type": "code",
   "execution_count": 11,
   "metadata": {},
   "outputs": [
    {
     "name": "stdout",
     "output_type": "stream",
     "text": [
      "Minimum of sum of squared distances of samples to their closest cluster center is:  7.833164756628481\n"
     ]
    }
   ],
   "source": [
    "from sklearn.cluster import KMeans\n",
    "import numpy as np\n",
    "\n",
    "min_mse = np.inf\n",
    "min_cluster = None\n",
    "repeat_number = 10\n",
    "for i in range(repeat_number):\n",
    "    kmeans = KMeans(init='k-means++', n_clusters=12).fit(new_trainX)\n",
    "    mse = kmeans.inertia_ / new_trainX.shape[0]\n",
    "    if mse <  min_mse :\n",
    "        min_mse = mse\n",
    "        min_cluster = kmeans\n",
    "        \n",
    "print('Minimum of sum of squared distances of samples to their closest cluster center is: ', min_mse)"
   ]
  },
  {
   "cell_type": "code",
   "execution_count": 12,
   "metadata": {},
   "outputs": [
    {
     "name": "stdout",
     "output_type": "stream",
     "text": [
      "Rand index is:  0.3927873242960771\n",
      "Homogeneity is:  0.6654843515647444\n",
      "Completeness is:  0.5502550626931366\n"
     ]
    }
   ],
   "source": [
    "from sklearn import metrics\n",
    "rand_index = metrics.adjusted_rand_score(trainY, min_cluster.labels_)\n",
    "print('Rand index is: ', rand_index)\n",
    "homogeneity =  metrics.homogeneity_score(trainY, min_cluster.labels_)\n",
    "print('Homogeneity is: ', homogeneity)\n",
    "completeness = metrics.completeness_score(trainY, min_cluster.labels_)\n",
    "print('Completeness is: ', completeness)"
   ]
  },
  {
   "cell_type": "code",
   "execution_count": 7,
   "metadata": {},
   "outputs": [
    {
     "name": "stdout",
     "output_type": "stream",
     "text": [
      "Minimum of sum of squared distances of samples to their closest cluster center is:  5.370258281060223\n"
     ]
    }
   ],
   "source": [
    "from sklearn.mixture import GaussianMixture\n",
    "import numpy as np\n",
    "\n",
    "min_mse = np.inf\n",
    "min_cluster = None\n",
    "repeat_number = 10\n",
    "for i in range(repeat_number):\n",
    "    gmm = GaussianMixture(n_components=12,covariance_type='diag').fit(new_trainX)\n",
    "    cov = gmm.covariances_\n",
    "    mse = np.sum(np.diag(cov))\n",
    "    if mse <  min_mse :\n",
    "        min_mse = mse\n",
    "        min_cluster = gmm\n",
    "        \n",
    "print('Minimum of sum of squared distances of samples to their closest cluster center is: ', min_mse)"
   ]
  },
  {
   "cell_type": "code",
   "execution_count": 9,
   "metadata": {},
   "outputs": [
    {
     "name": "stdout",
     "output_type": "stream",
     "text": [
      "Rand index is:  0.40766806042877374\n",
      "Homogeneity is:  0.6803494351390976\n",
      "Completeness is:  0.5520642983756733\n"
     ]
    }
   ],
   "source": [
    "pred_y = min_cluster.predict(new_trainX)\n",
    "from sklearn import metrics\n",
    "rand_index = metrics.adjusted_rand_score(trainY, pred_y)\n",
    "print('Rand index is: ', rand_index)\n",
    "homogeneity =  metrics.homogeneity_score(trainY, pred_y)\n",
    "print('Homogeneity is: ', homogeneity)\n",
    "completeness = metrics.completeness_score(trainY, pred_y)\n",
    "print('Completeness is: ', completeness)"
   ]
  },
  {
   "cell_type": "markdown",
   "metadata": {},
   "source": [
    "<div style=\"direction:rtl;line-height:300%;\">\n",
    "    <font face=\"XB Zar\" size=3>\n",
    "        با اعمال کاهش ابعاد MSE بیشتر شده است چرا که یک سری اطلاعات از دست رفته و باعث افزایش خطا شده است.\n",
    "        ولی با این وجود rand index و homogenity و completeness نیز بیشتر شده است که نشان می‌دهد با این که فاصله تا مراکز بیشتر شده \n",
    "        ولی نسبت به برچسب های داده شده بهتر دسته بندی کرده است که این یعنی از ویژگی های مفید تر برای خوشه بندی استفاده کرده و برچسب های با کمترین اثر را دور ریخته است.\n",
    "    </font>\n",
    "</div>"
   ]
  }
 ],
 "metadata": {
  "kernelspec": {
   "display_name": "Python 3",
   "language": "python",
   "name": "python3"
  },
  "language_info": {
   "codemirror_mode": {
    "name": "ipython",
    "version": 3
   },
   "file_extension": ".py",
   "mimetype": "text/x-python",
   "name": "python",
   "nbconvert_exporter": "python",
   "pygments_lexer": "ipython3",
   "version": "3.6.5"
  }
 },
 "nbformat": 4,
 "nbformat_minor": 2
}
